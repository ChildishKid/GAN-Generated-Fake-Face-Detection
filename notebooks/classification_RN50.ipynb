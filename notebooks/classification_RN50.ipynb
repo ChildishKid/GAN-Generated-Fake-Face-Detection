{
 "cells": [
  {
   "cell_type": "markdown",
   "metadata": {},
   "source": [
    "# Classification"
   ]
  },
  {
   "cell_type": "markdown",
   "metadata": {},
   "source": [
    "This notebook assumes that models directory is located in the same directory as this notebook.  \n",
    "This notebook assumes that image directory is located under ../classification/samples/images/  "
   ]
  },
  {
   "cell_type": "markdown",
   "metadata": {},
   "source": [
    "Import packages"
   ]
  },
  {
   "cell_type": "code",
   "execution_count": null,
   "metadata": {},
   "outputs": [],
   "source": [
    "import tensorflow as tf\n",
    "import tensorflow_hub as hub\n",
    "from tensorflow.keras.preprocessing.image import ImageDataGenerator\n",
    "from IPython.display import Image\n",
    "import matplotlib.pyplot as plt\n",
    "import ipywidgets as widgets\n",
    "import itertools\n",
    "import os\n",
    "import shutil\n",
    "# os.environ[\"CUDA_VISIBLE_DEVICES\"] = \"-1\""
   ]
  },
  {
   "cell_type": "markdown",
   "metadata": {},
   "source": [
    "## Keras Model"
   ]
  },
  {
   "cell_type": "markdown",
   "metadata": {},
   "source": [
    "Image size selection"
   ]
  },
  {
   "cell_type": "code",
   "execution_count": null,
   "metadata": {},
   "outputs": [],
   "source": [
    "size = widgets.IntText(\n",
    "    description='Image Dim.:',\n",
    "    disabled=False\n",
    ")\n",
    "display(size)"
   ]
  },
  {
   "cell_type": "markdown",
   "metadata": {},
   "source": [
    "Set up parameters"
   ]
  },
  {
   "cell_type": "code",
   "execution_count": null,
   "metadata": {},
   "outputs": [],
   "source": [
    "batch_size=1\n",
    "sample_path = '../classification/samples/'\n",
    "IMG_HEIGHT = size.value\n",
    "IMG_WIDTH = size.value"
   ]
  },
  {
   "cell_type": "markdown",
   "metadata": {},
   "source": [
    "Format data, load images and apply rescaling"
   ]
  },
  {
   "cell_type": "code",
   "execution_count": null,
   "metadata": {},
   "outputs": [],
   "source": [
    "sample_image_gen = ImageDataGenerator(rescale=1. / 255).flow_from_directory(batch_size=batch_size,\n",
    "                                                                            directory=sample_path,\n",
    "                                                                            target_size=(IMG_HEIGHT, IMG_WIDTH))\n",
    "                                                                        "
   ]
  },
  {
   "cell_type": "markdown",
   "metadata": {},
   "source": [
    "Load model"
   ]
  },
  {
   "cell_type": "code",
   "execution_count": null,
   "metadata": {},
   "outputs": [],
   "source": [
    "model_url = \"https://tfhub.dev/google/bit/m-r50x1/1\"\n",
    "module = hub.KerasLayer(model_url)\n",
    "\n",
    "class R50x1BiTModel(tf.keras.Model):\n",
    "    def __init__(self, module):\n",
    "        super().__init__()\n",
    "        self.head = tf.keras.layers.Dense(2, activation='softmax', name='Classifcation')\n",
    "        self.model = module\n",
    "    \n",
    "    def call(self, images):\n",
    "        # No need to cut head off since we are using feature extractor model\n",
    "        bit_embedding = self.model(images)\n",
    "        return self.head(bit_embedding)\n",
    "\n",
    "model = R50x1BiTModel(module)\n",
    "\n",
    "optimizer = tf.keras.optimizers.SGD(learning_rate=3e-7, momentum=0.9)\n",
    "\n",
    "model.compile(optimizer=optimizer,\n",
    "              loss=tf.keras.losses.BinaryCrossentropy(from_logits=True),\n",
    "              metrics=['accuracy'])\n",
    "\n",
    "model.load_weights('../checkpoints/ResNet50_base/')"
   ]
  },
  {
   "cell_type": "markdown",
   "metadata": {},
   "source": [
    "Predict"
   ]
  },
  {
   "cell_type": "code",
   "execution_count": null,
   "metadata": {},
   "outputs": [],
   "source": [
    "predictions_probabilities = model.predict(sample_image_gen, batch_size=None, verbose=1)"
   ]
  },
  {
   "cell_type": "markdown",
   "metadata": {},
   "source": [
    "## Classify"
   ]
  },
  {
   "cell_type": "markdown",
   "metadata": {},
   "source": [
    "Seperate results amongst classes"
   ]
  },
  {
   "cell_type": "code",
   "execution_count": null,
   "metadata": {},
   "outputs": [],
   "source": [
    "files = []\n",
    "for file_dir in sample_image_gen.filepaths:\n",
    "    files.append(os.path.split(file_dir)[1])\n",
    "\n",
    "results = zip(predictions_probabilities, predictions_probabilities.argmax(axis=-1), files, list(sample_image_gen.filepaths))\n",
    "fakes, reals = [], []\n",
    "\n",
    "for element in results:\n",
    "    if element[1] == 0:\n",
    "        fakes.append(element)\n",
    "    else:\n",
    "        reals.append(element)"
   ]
  },
  {
   "cell_type": "markdown",
   "metadata": {},
   "source": [
    "Move files to respective directories"
   ]
  },
  {
   "cell_type": "code",
   "execution_count": null,
   "metadata": {},
   "outputs": [],
   "source": [
    "fake_dir = '../classification/results/fake/'\n",
    "real_dir = '../classification/results/real/'\n",
    "\n",
    "\n",
    "for element in fakes:\n",
    "    shutil.move(element[3], fake_dir)\n",
    "\n",
    "for element in reals:\n",
    "    shutil.move(element[3], real_dir)"
   ]
  },
  {
   "cell_type": "markdown",
   "metadata": {},
   "source": [
    "Display most probable fake images (Top 10)"
   ]
  },
  {
   "cell_type": "code",
   "execution_count": null,
   "metadata": {},
   "outputs": [],
   "source": [
    "# Sort based on probabilities\n",
    "fakes.sort(key=lambda y: y[0][0], reverse=True)\n",
    "    \n",
    "for i in range(len(fakes)):\n",
    "    if i == 10:\n",
    "        break\n",
    "    display(Image(filename=os.path.join(fake_dir, fakes[i][2])))"
   ]
  },
  {
   "cell_type": "code",
   "execution_count": null,
   "metadata": {},
   "outputs": [],
   "source": []
  }
 ],
 "metadata": {
  "kernelspec": {
   "display_name": "Python 3",
   "language": "python",
   "name": "python3"
  },
  "language_info": {
   "codemirror_mode": {
    "name": "ipython",
    "version": 3
   },
   "file_extension": ".py",
   "mimetype": "text/x-python",
   "name": "python",
   "nbconvert_exporter": "python",
   "pygments_lexer": "ipython3",
   "version": "3.7.6"
  }
 },
 "nbformat": 4,
 "nbformat_minor": 4
}
